{
 "cells": [
  {
   "cell_type": "code",
   "execution_count": 1,
   "id": "5ddc384d-5d9b-4c65-a2fe-a40e275d67c7",
   "metadata": {},
   "outputs": [
    {
     "data": {
      "text/html": [
       "<div>\n",
       "<style scoped>\n",
       "    .dataframe tbody tr th:only-of-type {\n",
       "        vertical-align: middle;\n",
       "    }\n",
       "\n",
       "    .dataframe tbody tr th {\n",
       "        vertical-align: top;\n",
       "    }\n",
       "\n",
       "    .dataframe thead th {\n",
       "        text-align: right;\n",
       "    }\n",
       "</style>\n",
       "<table border=\"1\" class=\"dataframe\">\n",
       "  <thead>\n",
       "    <tr style=\"text-align: right;\">\n",
       "      <th></th>\n",
       "      <th>diameter</th>\n",
       "      <th>berat</th>\n",
       "      <th>tebal_kulit</th>\n",
       "      <th>kadar_gula</th>\n",
       "      <th>asal_daerah</th>\n",
       "      <th>warna</th>\n",
       "      <th>musim_panen</th>\n",
       "      <th>kualitas</th>\n",
       "    </tr>\n",
       "  </thead>\n",
       "  <tbody>\n",
       "    <tr>\n",
       "      <th>0</th>\n",
       "      <td>5.94</td>\n",
       "      <td>143.20</td>\n",
       "      <td>0.67</td>\n",
       "      <td>10.60</td>\n",
       "      <td>Malang</td>\n",
       "      <td>kuning kemerahan</td>\n",
       "      <td>hujan</td>\n",
       "      <td>Sedang</td>\n",
       "    </tr>\n",
       "    <tr>\n",
       "      <th>1</th>\n",
       "      <td>7.23</td>\n",
       "      <td>246.59</td>\n",
       "      <td>0.80</td>\n",
       "      <td>12.18</td>\n",
       "      <td>Boyolali</td>\n",
       "      <td>merah</td>\n",
       "      <td>kemarau</td>\n",
       "      <td>Bagus</td>\n",
       "    </tr>\n",
       "    <tr>\n",
       "      <th>2</th>\n",
       "      <td>6.67</td>\n",
       "      <td>236.43</td>\n",
       "      <td>0.80</td>\n",
       "      <td>12.27</td>\n",
       "      <td>Boyolali</td>\n",
       "      <td>merah</td>\n",
       "      <td>kemarau</td>\n",
       "      <td>Bagus</td>\n",
       "    </tr>\n",
       "    <tr>\n",
       "      <th>3</th>\n",
       "      <td>6.58</td>\n",
       "      <td>168.04</td>\n",
       "      <td>0.78</td>\n",
       "      <td>11.02</td>\n",
       "      <td>Boyolali</td>\n",
       "      <td>kuning kemerahan</td>\n",
       "      <td>kemarau</td>\n",
       "      <td>Sedang</td>\n",
       "    </tr>\n",
       "    <tr>\n",
       "      <th>4</th>\n",
       "      <td>5.91</td>\n",
       "      <td>141.48</td>\n",
       "      <td>0.70</td>\n",
       "      <td>11.23</td>\n",
       "      <td>Malang</td>\n",
       "      <td>kuning kemerahan</td>\n",
       "      <td>kemarau</td>\n",
       "      <td>Sedang</td>\n",
       "    </tr>\n",
       "    <tr>\n",
       "      <th>...</th>\n",
       "      <td>...</td>\n",
       "      <td>...</td>\n",
       "      <td>...</td>\n",
       "      <td>...</td>\n",
       "      <td>...</td>\n",
       "      <td>...</td>\n",
       "      <td>...</td>\n",
       "      <td>...</td>\n",
       "    </tr>\n",
       "    <tr>\n",
       "      <th>595</th>\n",
       "      <td>7.45</td>\n",
       "      <td>251.27</td>\n",
       "      <td>0.90</td>\n",
       "      <td>14.00</td>\n",
       "      <td>Boyolali</td>\n",
       "      <td>merah</td>\n",
       "      <td>kemarau</td>\n",
       "      <td>Bagus</td>\n",
       "    </tr>\n",
       "    <tr>\n",
       "      <th>596</th>\n",
       "      <td>6.60</td>\n",
       "      <td>263.26</td>\n",
       "      <td>0.77</td>\n",
       "      <td>12.72</td>\n",
       "      <td>Malang</td>\n",
       "      <td>merah</td>\n",
       "      <td>kemarau</td>\n",
       "      <td>Bagus</td>\n",
       "    </tr>\n",
       "    <tr>\n",
       "      <th>597</th>\n",
       "      <td>5.99</td>\n",
       "      <td>101.44</td>\n",
       "      <td>0.53</td>\n",
       "      <td>8.30</td>\n",
       "      <td>Garut</td>\n",
       "      <td>hijau</td>\n",
       "      <td>hujan</td>\n",
       "      <td>Jelek</td>\n",
       "    </tr>\n",
       "    <tr>\n",
       "      <th>598</th>\n",
       "      <td>6.19</td>\n",
       "      <td>258.85</td>\n",
       "      <td>0.80</td>\n",
       "      <td>12.01</td>\n",
       "      <td>Malang</td>\n",
       "      <td>merah</td>\n",
       "      <td>kemarau</td>\n",
       "      <td>Bagus</td>\n",
       "    </tr>\n",
       "    <tr>\n",
       "      <th>599</th>\n",
       "      <td>6.34</td>\n",
       "      <td>179.91</td>\n",
       "      <td>0.70</td>\n",
       "      <td>12.08</td>\n",
       "      <td>Malang</td>\n",
       "      <td>kuning kemerahan</td>\n",
       "      <td>kemarau</td>\n",
       "      <td>Sedang</td>\n",
       "    </tr>\n",
       "  </tbody>\n",
       "</table>\n",
       "<p>600 rows × 8 columns</p>\n",
       "</div>"
      ],
      "text/plain": [
       "     diameter   berat  tebal_kulit  kadar_gula asal_daerah             warna  \\\n",
       "0        5.94  143.20         0.67       10.60      Malang  kuning kemerahan   \n",
       "1        7.23  246.59         0.80       12.18    Boyolali             merah   \n",
       "2        6.67  236.43         0.80       12.27    Boyolali             merah   \n",
       "3        6.58  168.04         0.78       11.02    Boyolali  kuning kemerahan   \n",
       "4        5.91  141.48         0.70       11.23      Malang  kuning kemerahan   \n",
       "..        ...     ...          ...         ...         ...               ...   \n",
       "595      7.45  251.27         0.90       14.00    Boyolali             merah   \n",
       "596      6.60  263.26         0.77       12.72      Malang             merah   \n",
       "597      5.99  101.44         0.53        8.30       Garut             hijau   \n",
       "598      6.19  258.85         0.80       12.01      Malang             merah   \n",
       "599      6.34  179.91         0.70       12.08      Malang  kuning kemerahan   \n",
       "\n",
       "    musim_panen kualitas  \n",
       "0         hujan   Sedang  \n",
       "1       kemarau    Bagus  \n",
       "2       kemarau    Bagus  \n",
       "3       kemarau   Sedang  \n",
       "4       kemarau   Sedang  \n",
       "..          ...      ...  \n",
       "595     kemarau    Bagus  \n",
       "596     kemarau    Bagus  \n",
       "597       hujan    Jelek  \n",
       "598     kemarau    Bagus  \n",
       "599     kemarau   Sedang  \n",
       "\n",
       "[600 rows x 8 columns]"
      ]
     },
     "execution_count": 1,
     "metadata": {},
     "output_type": "execute_result"
    }
   ],
   "source": [
    "import pandas as pd\n",
    "\n",
    "df=pd.read_csv(\"apel_600.csv\")\n",
    "df"
   ]
  },
  {
   "cell_type": "code",
   "execution_count": 2,
   "id": "2d666405-e17e-4600-a5f4-dd457ac95043",
   "metadata": {},
   "outputs": [
    {
     "data": {
      "text/plain": [
       "(600, 8)"
      ]
     },
     "execution_count": 2,
     "metadata": {},
     "output_type": "execute_result"
    }
   ],
   "source": [
    "df.shape"
   ]
  },
  {
   "cell_type": "code",
   "execution_count": 3,
   "id": "ef3be603-9b7a-4d05-8dcc-a37eb3451234",
   "metadata": {},
   "outputs": [
    {
     "data": {
      "text/plain": [
       "Index(['diameter', 'berat', 'tebal_kulit', 'kadar_gula', 'asal_daerah',\n",
       "       'warna', 'musim_panen', 'kualitas'],\n",
       "      dtype='object')"
      ]
     },
     "execution_count": 3,
     "metadata": {},
     "output_type": "execute_result"
    }
   ],
   "source": [
    "df.columns"
   ]
  },
  {
   "cell_type": "code",
   "execution_count": 4,
   "id": "7cf11d04-24ad-46f7-836f-75968dbe7246",
   "metadata": {},
   "outputs": [
    {
     "name": "stdout",
     "output_type": "stream",
     "text": [
      "<class 'pandas.core.frame.DataFrame'>\n",
      "RangeIndex: 600 entries, 0 to 599\n",
      "Data columns (total 8 columns):\n",
      " #   Column       Non-Null Count  Dtype  \n",
      "---  ------       --------------  -----  \n",
      " 0   diameter     600 non-null    float64\n",
      " 1   berat        600 non-null    float64\n",
      " 2   tebal_kulit  600 non-null    float64\n",
      " 3   kadar_gula   600 non-null    float64\n",
      " 4   asal_daerah  600 non-null    object \n",
      " 5   warna        600 non-null    object \n",
      " 6   musim_panen  600 non-null    object \n",
      " 7   kualitas     600 non-null    object \n",
      "dtypes: float64(4), object(4)\n",
      "memory usage: 37.6+ KB\n"
     ]
    }
   ],
   "source": [
    "df.info()"
   ]
  },
  {
   "cell_type": "code",
   "execution_count": 5,
   "id": "86ab7b9a-e594-46fb-b326-dd07dd114e3f",
   "metadata": {},
   "outputs": [
    {
     "data": {
      "text/html": [
       "<div>\n",
       "<style scoped>\n",
       "    .dataframe tbody tr th:only-of-type {\n",
       "        vertical-align: middle;\n",
       "    }\n",
       "\n",
       "    .dataframe tbody tr th {\n",
       "        vertical-align: top;\n",
       "    }\n",
       "\n",
       "    .dataframe thead th {\n",
       "        text-align: right;\n",
       "    }\n",
       "</style>\n",
       "<table border=\"1\" class=\"dataframe\">\n",
       "  <thead>\n",
       "    <tr style=\"text-align: right;\">\n",
       "      <th></th>\n",
       "      <th>diameter</th>\n",
       "      <th>berat</th>\n",
       "      <th>tebal_kulit</th>\n",
       "      <th>kadar_gula</th>\n",
       "    </tr>\n",
       "  </thead>\n",
       "  <tbody>\n",
       "    <tr>\n",
       "      <th>count</th>\n",
       "      <td>600.000000</td>\n",
       "      <td>600.000000</td>\n",
       "      <td>600.000000</td>\n",
       "      <td>600.000000</td>\n",
       "    </tr>\n",
       "    <tr>\n",
       "      <th>mean</th>\n",
       "      <td>6.351500</td>\n",
       "      <td>176.898683</td>\n",
       "      <td>0.738417</td>\n",
       "      <td>11.571550</td>\n",
       "    </tr>\n",
       "    <tr>\n",
       "      <th>std</th>\n",
       "      <td>0.548116</td>\n",
       "      <td>52.434347</td>\n",
       "      <td>0.117873</td>\n",
       "      <td>1.830502</td>\n",
       "    </tr>\n",
       "    <tr>\n",
       "      <th>min</th>\n",
       "      <td>5.140000</td>\n",
       "      <td>70.900000</td>\n",
       "      <td>0.500000</td>\n",
       "      <td>8.300000</td>\n",
       "    </tr>\n",
       "    <tr>\n",
       "      <th>25%</th>\n",
       "      <td>5.950000</td>\n",
       "      <td>133.395000</td>\n",
       "      <td>0.657500</td>\n",
       "      <td>10.050000</td>\n",
       "    </tr>\n",
       "    <tr>\n",
       "      <th>50%</th>\n",
       "      <td>6.200000</td>\n",
       "      <td>168.040000</td>\n",
       "      <td>0.730000</td>\n",
       "      <td>11.230000</td>\n",
       "    </tr>\n",
       "    <tr>\n",
       "      <th>75%</th>\n",
       "      <td>6.670000</td>\n",
       "      <td>232.880000</td>\n",
       "      <td>0.850000</td>\n",
       "      <td>13.250000</td>\n",
       "    </tr>\n",
       "    <tr>\n",
       "      <th>max</th>\n",
       "      <td>7.830000</td>\n",
       "      <td>283.690000</td>\n",
       "      <td>0.970000</td>\n",
       "      <td>14.930000</td>\n",
       "    </tr>\n",
       "  </tbody>\n",
       "</table>\n",
       "</div>"
      ],
      "text/plain": [
       "         diameter       berat  tebal_kulit  kadar_gula\n",
       "count  600.000000  600.000000   600.000000  600.000000\n",
       "mean     6.351500  176.898683     0.738417   11.571550\n",
       "std      0.548116   52.434347     0.117873    1.830502\n",
       "min      5.140000   70.900000     0.500000    8.300000\n",
       "25%      5.950000  133.395000     0.657500   10.050000\n",
       "50%      6.200000  168.040000     0.730000   11.230000\n",
       "75%      6.670000  232.880000     0.850000   13.250000\n",
       "max      7.830000  283.690000     0.970000   14.930000"
      ]
     },
     "execution_count": 5,
     "metadata": {},
     "output_type": "execute_result"
    }
   ],
   "source": [
    "df.describe()"
   ]
  },
  {
   "cell_type": "code",
   "execution_count": 6,
   "id": "4357b123-a986-4b4d-8d6f-aa123b76a3b5",
   "metadata": {},
   "outputs": [
    {
     "data": {
      "text/plain": [
       "asal_daerah\n",
       "Malang      280\n",
       "Garut       167\n",
       "Boyolali    153\n",
       "Name: count, dtype: int64"
      ]
     },
     "execution_count": 6,
     "metadata": {},
     "output_type": "execute_result"
    }
   ],
   "source": [
    "df[\"asal_daerah\"].value_counts()"
   ]
  },
  {
   "cell_type": "code",
   "execution_count": 10,
   "id": "9965919a-7954-429e-92b1-b909f1ff7ab4",
   "metadata": {},
   "outputs": [
    {
     "data": {
      "text/plain": [
       "warna\n",
       "kuning kemerahan    226\n",
       "merah               212\n",
       "hijau               162\n",
       "Name: count, dtype: int64"
      ]
     },
     "execution_count": 10,
     "metadata": {},
     "output_type": "execute_result"
    }
   ],
   "source": [
    "df[\"warna\"].value_counts()"
   ]
  },
  {
   "cell_type": "code",
   "execution_count": 11,
   "id": "280261e0-1fb3-445f-8496-8e568840f498",
   "metadata": {},
   "outputs": [
    {
     "data": {
      "text/plain": [
       "musim_panen\n",
       "kemarau    324\n",
       "hujan      276\n",
       "Name: count, dtype: int64"
      ]
     },
     "execution_count": 11,
     "metadata": {},
     "output_type": "execute_result"
    }
   ],
   "source": [
    "df[\"musim_panen\"].value_counts()"
   ]
  },
  {
   "cell_type": "code",
   "execution_count": 12,
   "id": "d70ba758-8b64-4605-b923-c535cb27813e",
   "metadata": {},
   "outputs": [
    {
     "data": {
      "text/plain": [
       "kualitas\n",
       "Sedang    224\n",
       "Bagus     223\n",
       "Jelek     153\n",
       "Name: count, dtype: int64"
      ]
     },
     "execution_count": 12,
     "metadata": {},
     "output_type": "execute_result"
    }
   ],
   "source": [
    "df[\"kualitas\"].value_counts()"
   ]
  },
  {
   "cell_type": "code",
   "execution_count": 13,
   "id": "3f708da7-9409-4c6c-8715-647404a0385d",
   "metadata": {},
   "outputs": [
    {
     "data": {
      "text/html": [
       "<div>\n",
       "<style scoped>\n",
       "    .dataframe tbody tr th:only-of-type {\n",
       "        vertical-align: middle;\n",
       "    }\n",
       "\n",
       "    .dataframe tbody tr th {\n",
       "        vertical-align: top;\n",
       "    }\n",
       "\n",
       "    .dataframe thead th {\n",
       "        text-align: right;\n",
       "    }\n",
       "</style>\n",
       "<table border=\"1\" class=\"dataframe\">\n",
       "  <thead>\n",
       "    <tr style=\"text-align: right;\">\n",
       "      <th></th>\n",
       "      <th>diameter</th>\n",
       "      <th>berat</th>\n",
       "      <th>tebal_kulit</th>\n",
       "      <th>kadar_gula</th>\n",
       "      <th>asal_daerah</th>\n",
       "      <th>warna</th>\n",
       "      <th>musim_panen</th>\n",
       "      <th>kualitas</th>\n",
       "    </tr>\n",
       "  </thead>\n",
       "  <tbody>\n",
       "    <tr>\n",
       "      <th>0</th>\n",
       "      <td>5.94</td>\n",
       "      <td>143.20</td>\n",
       "      <td>0.67</td>\n",
       "      <td>10.60</td>\n",
       "      <td>Malang</td>\n",
       "      <td>kuning kemerahan</td>\n",
       "      <td>hujan</td>\n",
       "      <td>Sedang</td>\n",
       "    </tr>\n",
       "    <tr>\n",
       "      <th>1</th>\n",
       "      <td>7.23</td>\n",
       "      <td>246.59</td>\n",
       "      <td>0.80</td>\n",
       "      <td>12.18</td>\n",
       "      <td>Boyolali</td>\n",
       "      <td>merah</td>\n",
       "      <td>kemarau</td>\n",
       "      <td>Bagus</td>\n",
       "    </tr>\n",
       "    <tr>\n",
       "      <th>2</th>\n",
       "      <td>6.67</td>\n",
       "      <td>236.43</td>\n",
       "      <td>0.80</td>\n",
       "      <td>12.27</td>\n",
       "      <td>Boyolali</td>\n",
       "      <td>merah</td>\n",
       "      <td>kemarau</td>\n",
       "      <td>Bagus</td>\n",
       "    </tr>\n",
       "    <tr>\n",
       "      <th>3</th>\n",
       "      <td>6.58</td>\n",
       "      <td>168.04</td>\n",
       "      <td>0.78</td>\n",
       "      <td>11.02</td>\n",
       "      <td>Boyolali</td>\n",
       "      <td>kuning kemerahan</td>\n",
       "      <td>kemarau</td>\n",
       "      <td>Sedang</td>\n",
       "    </tr>\n",
       "    <tr>\n",
       "      <th>4</th>\n",
       "      <td>5.91</td>\n",
       "      <td>141.48</td>\n",
       "      <td>0.70</td>\n",
       "      <td>11.23</td>\n",
       "      <td>Malang</td>\n",
       "      <td>kuning kemerahan</td>\n",
       "      <td>kemarau</td>\n",
       "      <td>Sedang</td>\n",
       "    </tr>\n",
       "  </tbody>\n",
       "</table>\n",
       "</div>"
      ],
      "text/plain": [
       "   diameter   berat  tebal_kulit  kadar_gula asal_daerah             warna  \\\n",
       "0      5.94  143.20         0.67       10.60      Malang  kuning kemerahan   \n",
       "1      7.23  246.59         0.80       12.18    Boyolali             merah   \n",
       "2      6.67  236.43         0.80       12.27    Boyolali             merah   \n",
       "3      6.58  168.04         0.78       11.02    Boyolali  kuning kemerahan   \n",
       "4      5.91  141.48         0.70       11.23      Malang  kuning kemerahan   \n",
       "\n",
       "  musim_panen kualitas  \n",
       "0       hujan   Sedang  \n",
       "1     kemarau    Bagus  \n",
       "2     kemarau    Bagus  \n",
       "3     kemarau   Sedang  \n",
       "4     kemarau   Sedang  "
      ]
     },
     "execution_count": 13,
     "metadata": {},
     "output_type": "execute_result"
    }
   ],
   "source": [
    "df.head()"
   ]
  },
  {
   "cell_type": "code",
   "execution_count": 14,
   "id": "ef05ad2d-be8a-4f02-8d69-3299bdfba74a",
   "metadata": {},
   "outputs": [
    {
     "data": {
      "text/html": [
       "<div>\n",
       "<style scoped>\n",
       "    .dataframe tbody tr th:only-of-type {\n",
       "        vertical-align: middle;\n",
       "    }\n",
       "\n",
       "    .dataframe tbody tr th {\n",
       "        vertical-align: top;\n",
       "    }\n",
       "\n",
       "    .dataframe thead th {\n",
       "        text-align: right;\n",
       "    }\n",
       "</style>\n",
       "<table border=\"1\" class=\"dataframe\">\n",
       "  <thead>\n",
       "    <tr style=\"text-align: right;\">\n",
       "      <th></th>\n",
       "      <th>diameter</th>\n",
       "      <th>berat</th>\n",
       "      <th>tebal_kulit</th>\n",
       "      <th>kadar_gula</th>\n",
       "      <th>asal_daerah</th>\n",
       "      <th>warna</th>\n",
       "      <th>musim_panen</th>\n",
       "      <th>kualitas</th>\n",
       "    </tr>\n",
       "  </thead>\n",
       "  <tbody>\n",
       "    <tr>\n",
       "      <th>595</th>\n",
       "      <td>7.45</td>\n",
       "      <td>251.27</td>\n",
       "      <td>0.90</td>\n",
       "      <td>14.00</td>\n",
       "      <td>Boyolali</td>\n",
       "      <td>merah</td>\n",
       "      <td>kemarau</td>\n",
       "      <td>Bagus</td>\n",
       "    </tr>\n",
       "    <tr>\n",
       "      <th>596</th>\n",
       "      <td>6.60</td>\n",
       "      <td>263.26</td>\n",
       "      <td>0.77</td>\n",
       "      <td>12.72</td>\n",
       "      <td>Malang</td>\n",
       "      <td>merah</td>\n",
       "      <td>kemarau</td>\n",
       "      <td>Bagus</td>\n",
       "    </tr>\n",
       "    <tr>\n",
       "      <th>597</th>\n",
       "      <td>5.99</td>\n",
       "      <td>101.44</td>\n",
       "      <td>0.53</td>\n",
       "      <td>8.30</td>\n",
       "      <td>Garut</td>\n",
       "      <td>hijau</td>\n",
       "      <td>hujan</td>\n",
       "      <td>Jelek</td>\n",
       "    </tr>\n",
       "    <tr>\n",
       "      <th>598</th>\n",
       "      <td>6.19</td>\n",
       "      <td>258.85</td>\n",
       "      <td>0.80</td>\n",
       "      <td>12.01</td>\n",
       "      <td>Malang</td>\n",
       "      <td>merah</td>\n",
       "      <td>kemarau</td>\n",
       "      <td>Bagus</td>\n",
       "    </tr>\n",
       "    <tr>\n",
       "      <th>599</th>\n",
       "      <td>6.34</td>\n",
       "      <td>179.91</td>\n",
       "      <td>0.70</td>\n",
       "      <td>12.08</td>\n",
       "      <td>Malang</td>\n",
       "      <td>kuning kemerahan</td>\n",
       "      <td>kemarau</td>\n",
       "      <td>Sedang</td>\n",
       "    </tr>\n",
       "  </tbody>\n",
       "</table>\n",
       "</div>"
      ],
      "text/plain": [
       "     diameter   berat  tebal_kulit  kadar_gula asal_daerah             warna  \\\n",
       "595      7.45  251.27         0.90       14.00    Boyolali             merah   \n",
       "596      6.60  263.26         0.77       12.72      Malang             merah   \n",
       "597      5.99  101.44         0.53        8.30       Garut             hijau   \n",
       "598      6.19  258.85         0.80       12.01      Malang             merah   \n",
       "599      6.34  179.91         0.70       12.08      Malang  kuning kemerahan   \n",
       "\n",
       "    musim_panen kualitas  \n",
       "595     kemarau    Bagus  \n",
       "596     kemarau    Bagus  \n",
       "597       hujan    Jelek  \n",
       "598     kemarau    Bagus  \n",
       "599     kemarau   Sedang  "
      ]
     },
     "execution_count": 14,
     "metadata": {},
     "output_type": "execute_result"
    }
   ],
   "source": [
    "df.tail()"
   ]
  },
  {
   "cell_type": "code",
   "execution_count": 36,
   "id": "d8175a61-e178-4655-acb0-a5903ad3f044",
   "metadata": {},
   "outputs": [
    {
     "data": {
      "image/png": "[encoded data removed]",
      "text/plain": [
       "<Figure size 600x500 with 1 Axes>"
      ]
     },
     "metadata": {},
     "output_type": "display_data"
    }
   ],
   "source": [
    "import matplotlib.pyplot as plt\n",
    "\n",
    "bagus= df[df[\"kualitas\"]==\"Bagus\"]\n",
    "sedang= df[df[\"kualitas\"]==\"Seadng\"]\n",
    "jelek= df[df[\"kualitas\"]==\"Jelek\"]\n",
    "\n",
    "plt.figure(figsize=(6,5))\n",
    "plt.scatter(bagus[\"diameter\"], bagus[\"berat\"], s=100, alpha=0.7, color=\"purple\", label=\"Bagus\")\n",
    "plt.scatter(sedang[\"diameter\"], sedang[\"berat\"], s=100, alpha=0.7, color=\"orange\", label=\"Sedang\")\n",
    "plt.scatter(jelek[\"diameter\"], jelek[\"berat\"], s=100, alpha=0.7, color=\"red\", label=\"Jelek\")\n",
    "plt.xlabel(\"diameter\")\n",
    "plt.ylabel(\"berat\")\n",
    "plt.title(\"diameter vs berat\")\n",
    "plt.legend()\n",
    "plt.grid(True, linestyle=\"--\", alpha=0.3)\n",
    "plt.show()"
   ]
  },
  {
   "cell_type": "code",
   "execution_count": 37,
   "id": "43b2983e-777d-4954-b319-5f625ad66a5d",
   "metadata": {},
   "outputs": [
    {
     "data": {
      "image/png": "[encoded data removed]",
      "text/plain": [
       "<Figure size 600x500 with 1 Axes>"
      ]
     },
     "metadata": {},
     "output_type": "display_data"
    }
   ],
   "source": [
    "import matplotlib.pyplot as plt\n",
    "\n",
    "bagus= df[df[\"kualitas\"]==\"Bagus\"]\n",
    "sedang= df[df[\"kualitas\"]==\"Seadng\"]\n",
    "jelek= df[df[\"kualitas\"]==\"Jelek\"]\n",
    "\n",
    "plt.figure(figsize=(6,5))\n",
    "plt.scatter(bagus[\"tebal_kulit\"], bagus[\"kadar_gula\"], s=100, alpha=0.7, color=\"purple\", label=\"Bagus\")\n",
    "plt.scatter(sedang[\"tebal_kulit\"], sedang[\"kadar_gula\"], s=100, alpha=0.7, color=\"orange\", label=\"Sedang\")\n",
    "plt.scatter(jelek[\"tebal_kulit\"], jelek[\"kadar_gula\"], s=100, alpha=0.7, color=\"red\", label=\"Jelek\")\n",
    "plt.xlabel(\"tebal kulit\")\n",
    "plt.ylabel(\"kadar gula\")\n",
    "plt.title(\"tebal kulit vs kadar gula\")\n",
    "plt.legend()\n",
    "plt.grid(True, linestyle=\"--\", alpha=0.3)\n",
    "plt.show()"
   ]
  },
  {
   "cell_type": "code",
   "execution_count": 48,
   "id": "e5b66890-b004-40c3-bd69-ba401ac2893c",
   "metadata": {},
   "outputs": [
    {
     "name": "stdout",
     "output_type": "stream",
     "text": [
      "accuracy : 1.0\n",
      "classificatio report :               precision    recall  f1-score   support\n",
      "\n",
      "       Bagus       1.00      1.00      1.00        48\n",
      "       Jelek       1.00      1.00      1.00        29\n",
      "      Sedang       1.00      1.00      1.00        43\n",
      "\n",
      "    accuracy                           1.00       120\n",
      "   macro avg       1.00      1.00      1.00       120\n",
      "weighted avg       1.00      1.00      1.00       120\n",
      "\n",
      "coonfusion matrix : [[48  0  0]\n",
      " [ 0 29  0]\n",
      " [ 0  0 43]]\n"
     ]
    }
   ],
   "source": [
    "from sklearn.linear_model import LogisticRegression\n",
    "from sklearn.model_selection import train_test_split\n",
    "from sklearn.metrics import accuracy_score, classification_report, confusion_matrix\n",
    "from sklearn.preprocessing import StandardScaler, OneHotEncoder, OrdinalEncoder\n",
    "from sklearn.pipeline import Pipeline\n",
    "from sklearn.compose import ColumnTransformer\n",
    "\n",
    "X=df[[\"diameter\",\"berat\",\"tebal_kulit\",\"kadar_gula\",\"asal_daerah\",\"warna\",\"musim_panen\"]]\n",
    "y=df[\"kualitas\"]\n",
    "\n",
    "X_train,X_test, y_train, y_test= train_test_split(\n",
    "    X, y, test_size=0.2, random_state=42\n",
    ")\n",
    "\n",
    "numeric_columns=[\"diameter\",\"berat\",\"tebal_kulit\",\"kadar_gula\"]\n",
    "categorical_columns=[\"asal_daerah\",\"musim_panen\"]\n",
    "ordinal_columns=[\"warna\"]\n",
    "\n",
    "warna_order=[\"kuning kemerahan\",\"merah\",\"hijau\"]\n",
    "ordinal_order=[warna_order]\n",
    "\n",
    "preprocessing = ColumnTransformer(\n",
    "    transformers=[\n",
    "        (\"scaler\", StandardScaler(), numeric_columns),\n",
    "        (\"ohe\", OneHotEncoder(), categorical_columns),\n",
    "        (\"oe\", OrdinalEncoder(categories=ordinal_order), ordinal_columns)\n",
    "    ]\n",
    ")\n",
    "\n",
    "model = Pipeline(\n",
    "    steps=[\n",
    "        (\"preprocessing\", preprocessing),\n",
    "        (\"model\", LogisticRegression())\n",
    "    ]\n",
    ")\n",
    "\n",
    "model.fit(X_train, y_train)\n",
    "y_pred= model.predict(X_test)\n",
    "print(\"accuracy :\", accuracy_score(y_test, y_pred))\n",
    "print(\"classificatio report :\", classification_report(y_test, y_pred))\n",
    "print(\"coonfusion matrix :\", confusion_matrix(y_test, y_pred))"
   ]
  },
  {
   "cell_type": "code",
   "execution_count": 68,
   "id": "fa7289ce-e440-454c-9fac-3e514e6aa2cd",
   "metadata": {},
   "outputs": [
    {
     "name": "stdout",
     "output_type": "stream",
     "text": [
      "model memprediksi Bagus dengan tingkat keyakinan99.78%\n"
     ]
    }
   ],
   "source": [
    "data_baru = pd.DataFrame([[6.42,255,0.84,12.18, \"Garut\", \"hijau\",\"hujan\"]], columns=[\"diameter\",\"berat\",\"tebal_kulit\",\"kadar_gula\",\"asal_daerah\",\"warna\",\"musim_panen\"])\n",
    "\n",
    "prediksi=model.predict(data_baru)[0]\n",
    "persentase=max(model.predict_proba(data_baru)[0])\n",
    "print(f\"model memprediksi {prediksi} dengan tingkat keyakinan{persentase*100:.2f}%\")"
   ]
  },
  {
   "cell_type": "code",
   "execution_count": 65,
   "id": "58171802-199d-4bef-afd6-d62e8ece413d",
   "metadata": {},
   "outputs": [
    {
     "data": {
      "text/plain": [
       "['model_klasifikasi_apel.joblib']"
      ]
     },
     "execution_count": 65,
     "metadata": {},
     "output_type": "execute_result"
    }
   ],
   "source": [
    "import joblib\n",
    "\n",
    "joblib.dump(model, \"model_klasifikasi_apel.joblib\")"
   ]
  }
 ],
 "metadata": {
  "kernelspec": {
   "display_name": "Python 3 (ipykernel)",
   "language": "python",
   "name": "python3"
  },
  "language_info": {
   "codemirror_mode": {
    "name": "ipython",
    "version": 3
   },
   "file_extension": ".py",
   "mimetype": "text/x-python",
   "name": "python",
   "nbconvert_exporter": "python",
   "pygments_lexer": "ipython3",
   "version": "3.13.7"
  }
 },
 "nbformat": 4,
 "nbformat_minor": 5
}
